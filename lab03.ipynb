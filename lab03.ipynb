{
 "cells": [
  {
   "cell_type": "markdown",
   "id": "5a684b6d-d67e-402e-98a0-91815203c650",
   "metadata": {},
   "source": [
    "# Lab 3: Collaborative Filtering with Tensorflow"
   ]
  },
  {
   "cell_type": "code",
   "execution_count": 6,
   "id": "a21aa55f-413e-475b-b81e-6fe8d1536ec8",
   "metadata": {},
   "outputs": [],
   "source": [
    "import tensorflow as tf"
   ]
  },
  {
   "cell_type": "markdown",
   "id": "cd8e722f-02ce-4ec6-bb86-0e7929e84bd1",
   "metadata": {},
   "source": [
    "## Manually compute derivatives using 'auto diff' functionality"
   ]
  },
  {
   "cell_type": "code",
   "execution_count": 8,
   "id": "7c2046ba-e4dd-4f2a-8f1e-da084015472b",
   "metadata": {},
   "outputs": [],
   "source": [
    "w = tf.Variable(3.0) # Variable indicates to tensforflow that this is a parameter to be optimized\n",
    "x = 1.0\n",
    "y = 1.0 # target value\n",
    "alpha = 0.01 # learning rate\n",
    "iterations = 30\n",
    "\n",
    "for _ in range(iterations):\n",
    "    \n",
    "    # Use Tensorflow's GradientTape to record the steps of calculating the cost function (J).\n",
    "    # This tape enables differentiation... which we need in the subsequent step to isolate the steps of gradient descent.\n",
    "    with tf.GradientTape() as tape:\n",
    "        fwb = w*x\n",
    "        costJ = (fwb - y)**2\n",
    "\n",
    "    # Use the tape to calculate the gradients (with respect to w)\n",
    "    [dJdw] = tape.gradient(costJ, [w])\n",
    "\n",
    "    # Run one step of gradient descent; This updates the value of w (reducing the cost, stepping down a valley).\n",
    "    w.assign_add(-alpha * dJdw)"
   ]
  },
  {
   "cell_type": "markdown",
   "id": "98d78547-94c0-4348-b3ad-3a1be882112b",
   "metadata": {},
   "source": [
    "## Implement the collaborative filtering algorithm TensorFlow\n",
    "\n",
    "This is one of the things you can do with the 'auto diff' functionality demonstrated above."
   ]
  },
  {
   "cell_type": "code",
   "execution_count": 11,
   "id": "8f36feb2-83ba-4f5a-b8fb-b4c1db2b9ec1",
   "metadata": {},
   "outputs": [
    {
     "ename": "SyntaxError",
     "evalue": "invalid syntax (2992937268.py, line 18)",
     "output_type": "error",
     "traceback": [
      "  \u001b[36mCell\u001b[39m\u001b[36m \u001b[39m\u001b[32mIn[11]\u001b[39m\u001b[32m, line 18\u001b[39m\n\u001b[31m    \u001b[39m\u001b[31mcost_value = cofiCostFuncV(X, W, b, normalized_movie_ratings, R, num_users, num_movies, lambda)\u001b[39m\n                                                                                                  ^\n\u001b[31mSyntaxError\u001b[39m\u001b[31m:\u001b[39m invalid syntax\n"
     ]
    }
   ],
   "source": [
    "# Instantiate an optimizer\n",
    "# Adam optimization algorithm is based on gradient descent but it adjusts the learning rate automatically\n",
    "optimizer = keras.optimizers.Adam(learning_rate=1e-1)\n",
    "\n",
    "iterations = 200\n",
    "for _ in range(iterations):\n",
    "\n",
    "    # Use Tensorflow's GradientTape to record the steps of calculating the cost function (J).\n",
    "    with tf.GradientTape() as tape:\n",
    "\n",
    "        # Compute the cost (forward pass is included in the cost)\n",
    "        # When using collaborative filtering, the cost function has three variables (instead of two)\n",
    "        # ...weights (W) bias (b) and features (X). Collaborative filtering deduces ALL of these.\n",
    "        \n",
    "        # R is a vector that tells us which of the training examples has value we can use\n",
    "        #    We only want to look at training examples where the user has rated the movie. \n",
    "        #    We want to ignore examples where the user has not rated the movie.\n",
    "        cost_value = cofiCostFuncV(X, W, b, normalized_movie_ratings, R, num_users, num_movies, lambda)\n",
    "\n",
    "    # Use the tape to retrieve the gradients/derivatives (with respect to X W and b)\n",
    "    # These derivatives will be used in the next line to perform one iteration of gradient descent.\n",
    "    gradients = tape.gradient(cost_value, [X, W, b])\n",
    "\n",
    "    # Run one step of gradient descent; This updates the value of w (reducing the cost, stepping down a valley).\n",
    "    # Reminder on the process of gradient descent...the following steps happen at each iteration\n",
    "    #    - Calculate the derivative with respect to w and then update w by learning_rate * derivative\n",
    "    #    - Calculate the derivative with respect to b and then update b by learning_rate * derivative\n",
    "    #    - Calculate the derivative with respect to x and then update x by learning_rate * derivative (unique to collaborative filtering)\n",
    "    optimizer.apply_gradients(zip(gradients, [X, W, b])"
   ]
  },
  {
   "cell_type": "code",
   "execution_count": null,
   "id": "a193b5bb-8f4d-4d67-9460-abbe50fad808",
   "metadata": {},
   "outputs": [],
   "source": []
  }
 ],
 "metadata": {
  "kernelspec": {
   "display_name": "Python 3 (ipykernel)",
   "language": "python",
   "name": "python3"
  },
  "language_info": {
   "codemirror_mode": {
    "name": "ipython",
    "version": 3
   },
   "file_extension": ".py",
   "mimetype": "text/x-python",
   "name": "python",
   "nbconvert_exporter": "python",
   "pygments_lexer": "ipython3",
   "version": "3.12.11"
  }
 },
 "nbformat": 4,
 "nbformat_minor": 5
}
