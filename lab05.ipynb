{
 "cells": [
  {
   "cell_type": "markdown",
   "id": "ae81e876-c8cc-4273-bb27-1033462804b1",
   "metadata": {},
   "source": [
    "# Lab 5: Overview of content-based filtering with tensorflow"
   ]
  },
  {
   "cell_type": "code",
   "execution_count": 3,
   "id": "8a9ded9a-8dc3-4a10-9c83-087717e7e849",
   "metadata": {},
   "outputs": [],
   "source": [
    "import tensorflow as tf"
   ]
  },
  {
   "cell_type": "code",
   "execution_count": 6,
   "id": "a76edb39-dda8-4f4a-b6c9-d9a55741b843",
   "metadata": {},
   "outputs": [],
   "source": [
    "# Setup the two neural networks: one for the users and one for the items\n",
    "\n",
    "user_NN = tf.keras.models.Sequential([\n",
    "    tf.keras.layers.Dense(256, activation='relu'),\n",
    "    tf.keras.layers.Dense(128, activation='relu'),\n",
    "    tf.keras.layers.Dense(32) # 32 desired features in the derived user matrix (Vu)\n",
    "])\n",
    "\n",
    "item_NN = tf.keras.models.Sequential([\n",
    "    tf.keras.layers.Dense(256, activation='relu'),\n",
    "    tf.keras.layers.Dense(128, activation='relu'),\n",
    "    tf.keras.layers.Dense(32) # 32 desired features in the derived item matrix (Vm)\n",
    "])  "
   ]
  },
  {
   "cell_type": "code",
   "execution_count": 8,
   "id": "607d2979-52c2-4282-b080-2a25ef1c99b5",
   "metadata": {},
   "outputs": [
    {
     "ename": "SyntaxError",
     "evalue": "invalid decimal literal (2754825934.py, line 10)",
     "output_type": "error",
     "traceback": [
      "  \u001b[36mCell\u001b[39m\u001b[36m \u001b[39m\u001b[32mIn[8]\u001b[39m\u001b[32m, line 10\u001b[39m\n\u001b[31m    \u001b[39m\u001b[31mvu = tf.linalg.12_normalize(vu, axis=1)\u001b[39m\n                     ^\n\u001b[31mSyntaxError\u001b[39m\u001b[31m:\u001b[39m invalid decimal literal\n"
     ]
    }
   ],
   "source": [
    "# Create the user input and point to the base network (derives Vu)\n",
    "input_user = tf.keras.layers.Input(shape(num_user_features))\n",
    "vu = user_NN(input_user)\n",
    "\n",
    "# Create the item input and point to the base network (derives Vm)\n",
    "input_item = tf.keras.layers.Input(shape(num_item_features))\n",
    "vm = user_NN(input_item)\n",
    "\n",
    "# Normalize the two derived matrices to have length 1\n",
    "vu = tf.linalg.12_normalize(vu, axis=1)\n",
    "vm = tf.linalg.12_normalize(vm, axis=1)"
   ]
  },
  {
   "cell_type": "code",
   "execution_count": 9,
   "id": "9c9df4bb-4057-41cc-a653-5e1d62e2895d",
   "metadata": {},
   "outputs": [
    {
     "ename": "NameError",
     "evalue": "name 'vu' is not defined",
     "output_type": "error",
     "traceback": [
      "\u001b[31m---------------------------------------------------------------------------\u001b[39m",
      "\u001b[31mNameError\u001b[39m                                 Traceback (most recent call last)",
      "\u001b[36mCell\u001b[39m\u001b[36m \u001b[39m\u001b[32mIn[9]\u001b[39m\u001b[32m, line 4\u001b[39m\n\u001b[32m      1\u001b[39m \u001b[38;5;66;03m# Make Prediction\u001b[39;00m\n\u001b[32m      2\u001b[39m \u001b[38;5;66;03m# Measure the similarity of the two vector outputs\u001b[39;00m\n\u001b[32m      3\u001b[39m \u001b[38;5;66;03m# tf.keras.layers.Dot(...) is just a different kind of layer that takes the dot product of two matrices\u001b[39;00m\n\u001b[32m----> \u001b[39m\u001b[32m4\u001b[39m output = tf.keras.layers.Dot(axes=\u001b[32m1\u001b[39m) ([\u001b[43mvu\u001b[49m, vm])\n",
      "\u001b[31mNameError\u001b[39m: name 'vu' is not defined"
     ]
    }
   ],
   "source": [
    "# Make Prediction\n",
    "# Measure the similarity of the two vector outputs\n",
    "# tf.keras.layers.Dot(...) is just a different kind of layer that takes the dot product of two matrices (Vu and Vm)\n",
    "output = tf.keras.layers.Dot(axes=1) ([vu, vm])"
   ]
  },
  {
   "cell_type": "code",
   "execution_count": 10,
   "id": "2e94a2c0-4ac9-4891-ae0b-8481a464ede2",
   "metadata": {},
   "outputs": [
    {
     "ename": "NameError",
     "evalue": "name 'Model' is not defined",
     "output_type": "error",
     "traceback": [
      "\u001b[31m---------------------------------------------------------------------------\u001b[39m",
      "\u001b[31mNameError\u001b[39m                                 Traceback (most recent call last)",
      "\u001b[36mCell\u001b[39m\u001b[36m \u001b[39m\u001b[32mIn[10]\u001b[39m\u001b[32m, line 2\u001b[39m\n\u001b[32m      1\u001b[39m \u001b[38;5;66;03m# Specify the inputs and outputs of the model\u001b[39;00m\n\u001b[32m----> \u001b[39m\u001b[32m2\u001b[39m model = \u001b[43mModel\u001b[49m([input_user, input_item], output)\n",
      "\u001b[31mNameError\u001b[39m: name 'Model' is not defined"
     ]
    }
   ],
   "source": [
    "# Specify the inputs and outputs of the model\n",
    "model = Model([input_user, input_item], output)"
   ]
  },
  {
   "cell_type": "code",
   "execution_count": 11,
   "id": "589c8b3e-134b-4f28-8983-d20ee63f65b8",
   "metadata": {},
   "outputs": [],
   "source": [
    "# Specify the cost function\n",
    "cost_fn = tf.keras.losses.MeanSquaredError()"
   ]
  },
  {
   "cell_type": "code",
   "execution_count": null,
   "id": "1d06b6e2-24e0-417a-8474-7128d789f170",
   "metadata": {},
   "outputs": [],
   "source": []
  }
 ],
 "metadata": {
  "kernelspec": {
   "display_name": "Python 3 (ipykernel)",
   "language": "python",
   "name": "python3"
  },
  "language_info": {
   "codemirror_mode": {
    "name": "ipython",
    "version": 3
   },
   "file_extension": ".py",
   "mimetype": "text/x-python",
   "name": "python",
   "nbconvert_exporter": "python",
   "pygments_lexer": "ipython3",
   "version": "3.12.11"
  }
 },
 "nbformat": 4,
 "nbformat_minor": 5
}
